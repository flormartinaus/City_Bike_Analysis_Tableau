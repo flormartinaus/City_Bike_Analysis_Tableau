{
 "cells": [
  {
   "cell_type": "code",
   "execution_count": 7,
   "metadata": {},
   "outputs": [],
   "source": [
    "# Dependecies\n",
    "\n",
    "import pandas as pd\n",
    "\n",
    "# Read in all csv files for a single year in a pandas dataframe, store in a list, and then concatenate into a single dataframe.\n",
    "\n",
    "citi_bike = ['data01.csv', 'data02.csv', 'data03.csv', 'data04.csv', 'data05.csv', 'data06.csv', 'data07.csv', 'data08.csv', 'data09.csv', 'data10.csv', 'data11.csv' ]\n",
    "\n",
    "df_citi_bike_list = []\n",
    "for file in citi_bike:\n",
    "    df_citi_bike = pd.read_csv(file)\n",
    "    df_citi_bike_list.append(df_citi_bike)\n",
    "\n",
    "df_citi_bike = pd.concat(df_citi_bike_list)\n",
    "\n",
    "df_citi_bike\n",
    "\n",
    "df_citi_bike.dtypes\n",
    "\n",
    "# change values in data frame for gender\n",
    "\n",
    "mapping = {0: 'unknown', 1: 'female', 2: 'male'}\n",
    "df_citi_bike ['gender'] = df_citi_bike['gender'].map(mapping)\n",
    "\n",
    "df_citi_bike\n",
    "\n",
    "# save the dataframe to a csv file to import to Tableau\n",
    "\n",
    "df_citi_bike.to_csv('citi_bike.csv', index=False)\n",
    "\n",
    "\n",
    "\n"
   ]
  }
 ],
 "metadata": {
  "kernelspec": {
   "display_name": "base",
   "language": "python",
   "name": "python3"
  },
  "language_info": {
   "codemirror_mode": {
    "name": "ipython",
    "version": 3
   },
   "file_extension": ".py",
   "mimetype": "text/x-python",
   "name": "python",
   "nbconvert_exporter": "python",
   "pygments_lexer": "ipython3",
   "version": "3.9.16"
  },
  "orig_nbformat": 4
 },
 "nbformat": 4,
 "nbformat_minor": 2
}
